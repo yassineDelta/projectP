{
  "cells": [
    {
      "cell_type": "code",
      "execution_count": null,
      "metadata": {
        "id": "LXzNNVXyby-G"
      },
      "outputs": [],
      "source": [
        "import pyomo.environ as pyo\n",
        "import pyomo.opt as po\n",
        "from pyomo.opt import SolverFactory\n",
        "import pandas as pd\n",
        "from pyomo.environ import *"
      ]
    },
    {
      "cell_type": "code",
      "execution_count": 103,
      "metadata": {
        "id": "q69bCKyRdZWN"
      },
      "outputs": [
        {
          "name": "stdout",
          "output_type": "stream",
          "text": [
            "qE  =  4806.405968613326\n",
            "qLF =  1393.8577308978645\n",
            "qBrut =  3412.5482377154613\n",
            "qS =  4421.89349112426\n",
            "qYcc =  1700.0\n",
            "qSout =  2721.8934911242604\n",
            "qDos =  1278.1065088757398\n",
            "qG10 =  4000.0\n",
            "qG10 =  64607.06244736297\n"
          ]
        }
      ],
      "source": [
        "# create a model instance\n",
        "model = ConcreteModel()\n",
        "\n",
        "# declare decision variables\n",
        "model.qE = Var(within=NonNegativeReals ,  bounds=(0, 10000))\n",
        "model.qLF = Var(within=NonNegativeReals , bounds=(0, 10000))\n",
        "model.qBrut = Var(within=NonNegativeReals , bounds=(0, 10000))\n",
        "\n",
        "model.qS = Var(within=NonNegativeReals , bounds=(0, 10000) )\n",
        "model.qYcc = Var(within=NonNegativeReals , bounds=(0, 10000))\n",
        "model.qSout = Var(within=NonNegativeReals , bounds=(0, 10000))\n",
        "model.qDos = Var(within=NonNegativeReals , bounds=(0, 10000))\n",
        "model.qG10 = Var(within=NonNegativeReals , bounds=(0, 10000))\n",
        "\n",
        "model.qe = Var(comps , domain=NonNegativeReals , bounds=(0, 10000))\n",
        "model.qycc = Var(comps , domain=NonNegativeReals, bounds=(0, 10000))\n",
        "\n",
        "\n",
        "obj_expr = sum(COFF.loc[p, 'alfa'] * model.qe[p] for p in comps)+sum(COFF.loc[p, 'beta'] * model.qycc[p] for p in comps) + qa*qualite +cte \n",
        "model.CF = Objective(expr = obj_expr, sense=minimize)\n",
        "\n",
        "\n",
        "model.constrain1 = ConstraintList()\n",
        "\n",
        "\n",
        "\n",
        "model.constrain1.add(model.qe['BPL'] ==(model.qLF *P_i.loc[ 'BPL','pLF'] + model.qBrut* P_i.loc[ 'BPL','pBrut']))\n",
        "model.constrain1.add(model.qe['CO2'] ==(model.qLF *P_i.loc[ 'CO2','pLF'] + model.qBrut* P_i.loc[ 'CO2','pBrut']))\n",
        "model.constrain1.add(model.qe['SiO2'] ==(model.qLF *P_i.loc[ 'SiO2','pLF'] + model.qBrut* P_i.loc[ 'SiO2','pBrut']))\n",
        "model.constrain1.add(model.qE == model.qLF + model.qBrut)\n",
        "\n",
        "model.constrain1.add(model.qe['BPL'] <= model.qE )\n",
        "model.constrain1.add(model.qe['CO2'] <= model.qE )\n",
        "model.constrain1.add(model.qe['SiO2'] <= model.qE )\n",
        "model.constrain1.add(sum(model.qe[i] for i in comps ) <= model.qE )\n",
        "\n",
        "\n",
        "model.constrain1.add( P_s.loc['BPL','e_min']*model.qE<= model.qe['BPL']) \n",
        "model.constrain1.add(model.qe['BPL']<= P_s.loc['BPL' ,'e_max']*model.qE )\n",
        "model.constrain1.add( P_s.loc['CO2','e_min']*model.qE<= model.qe['CO2'] )\n",
        "model.constrain1.add( model.qe['CO2']<= P_s.loc['CO2' ,'e_max']*model.qE )\n",
        "model.constrain1.add( P_s.loc['SiO2','e_min']*model.qE<= model.qe['SiO2'])\n",
        "model.constrain1.add( model.qe['SiO2']<= P_s.loc['SiO2' ,'e_max']*model.qE )\n",
        "\n",
        "model.constrain1.add(model.qS == model.qYcc +  model.qSout)\n",
        "model.constrain1.add(model.qG10 == model.qSout + model.qDos + model.qYcc*qualite)\n",
        "\n",
        "\n",
        "model.constrain1.add(model.qycc['BPL'] <= model.qYcc )\n",
        "model.constrain1.add(model.qycc['CO2'] <= model.qYcc )\n",
        "model.constrain1.add(model.qycc['SiO2'] <= model.qYcc )\n",
        "model.constrain1.add(sum(model.qycc[i] for i in comps ) <= model.qYcc )\n",
        "\n",
        "\n",
        "model.constrain1.add( P_s.loc['BPL','s_min']*model.qYcc<= model.qycc['BPL'])\n",
        "model.constrain1.add( model.qycc['BPL']<= P_s.loc['BPL' ,'s_max']*model.qYcc )  \n",
        "model.constrain1.add( P_s.loc['CO2','s_min']*model.qYcc<= model.qycc['CO2'] )\n",
        "model.constrain1.add( model.qycc['CO2']<= P_s.loc['CO2' ,'s_max']*model.qYcc )\n",
        "model.constrain1.add( P_s.loc['SiO2','s_min']*model.qYcc<= model.qycc['SiO2'] )\n",
        "model.constrain1.add( model.qycc['SiO2']<= P_s.loc['SiO2' ,'s_max']*model.qYcc )\n",
        "\n",
        "\n",
        "model.constrain1.add(model.qYcc <= Sexpo )\n",
        "model.constrain1.add(model.qG10<=SG10)\n",
        "model.constrain1.add(model.qS<=Prod)\n",
        "model.constrain1.add(model.qS==D*model.qE)\n",
        "model.constrain1.add(DG10 <= model.qG10 )\n",
        "model.constrain1.add(Dexpo<= model.qYcc )\n",
        "model.constrain1.add(model.qE<= debit_enter)\n",
        "model.constrain1.add(pH2O_S*(model.qSout + qualite*model.qYcc)  +pH2O_dos*model.qDos <= 5.5 *model.qG10 ) \n",
        "model.constrain1.add(model.qLF <= Xmax * model.qE)\n",
        "model.constrain1.add(0.29*model.qE<=model.qLF)\n",
        "\n",
        "\n",
        "\n",
        "solver = pyo.SolverFactory('cplex_direct')\n",
        "solver.solve(model)\n",
        "\n",
        "# display solution\n",
        "print('qE  = ', model.qE())\n",
        "print('qLF = ', model.qLF())\n",
        "print('qBrut = ', model.qBrut())\n",
        "print('qS = ', model.qS())\n",
        "print('qYcc = ', model.qYcc())\n",
        "print('qSout = ', model.qSout())\n",
        "print('qDos = ', model.qDos())\n",
        "print('qG10 = ', model.qG10())\n",
        "print('Consommation de fuel (kg) = ', model.CF())"
      ]
    },
    {
      "cell_type": "code",
      "execution_count": 104,
      "metadata": {},
      "outputs": [
        {
          "name": "stdout",
          "output_type": "stream",
          "text": [
            "Empty DataFrame\n",
            "Columns: [qE, qLF, qBrut, qS, qYcc, qSout, qDos, qG10]\n",
            "Index: []\n"
          ]
        },
        {
          "name": "stderr",
          "output_type": "stream",
          "text": [
            "C:\\Users\\hp\\AppData\\Local\\Temp\\ipykernel_4044\\1814174778.py:3: FutureWarning: The frame.append method is deprecated and will be removed from pandas in a future version. Use pandas.concat instead.\n",
            "  results.append([model.qE(), model.qLF() , model.qBrut(), model.qS(), model.qYcc(), model.qSout() , model.qDos(), model.qG10()])\n"
          ]
        }
      ],
      "source": [
        "results=[]\n",
        "results = pd.DataFrame(columns=['qE', 'qLF', 'qBrut', 'qS', 'qYcc', 'qSout','qDos' , 'qG10'])\n",
        "results.append([model.qE(), model.qLF() , model.qBrut(), model.qS(), model.qYcc(), model.qSout() , model.qDos(), model.qG10()])\n",
        "print(results)"
      ]
    },
    {
      "cell_type": "code",
      "execution_count": 101,
      "metadata": {
        "id": "n4gqiJeLCtiy"
      },
      "outputs": [],
      "source": [
        "#data\n",
        "comps = ['BPL', 'CO2', 'SiO2']\n",
        "\n",
        "P_i = pd.DataFrame(index=comps)\n",
        "P_i['pBrut'] = [0.6543, 0.0739, 0.0491]\n",
        "P_i['pLF'] = [0.6561, 0.0594, 0.058]\n",
        "\n",
        "P_s = pd.DataFrame(index=comps)\n",
        "P_s['s_min'] = [0.69, 0.022 , 0.023]\n",
        "P_s['s_max'] = [1, 0.03, 0.07]\n",
        "\n",
        "\n",
        "\n",
        "# les contraintes de la demande :\n",
        "Dexpo =1700  ;\n",
        "DG10 = 4000  ;\n",
        "\n",
        "# qualites ( expo : 0 // standard : 1)\n",
        "qualite = 0 ; \n",
        "\n",
        "###########################################\n",
        "#P_s = pd.DataFrame(index=comps)\n",
        "P_s['e_min'] = [0.5819, 0.0497, 0.039]\n",
        "P_s['e_max'] = [0.6883, 0.0738, 0.1188]\n",
        "\n",
        "\n",
        "# les contraintes de stockage et de production  : \n",
        "# a l'entrer :\n",
        "SLF = 3000 \n",
        "Sbrut = 6000 \n",
        "\n",
        "# a la sortie  :\n",
        "Sexpo = 9000  \n",
        "SG10 = 9000   \n",
        "\n",
        "# production  :\n",
        "Prod = 7000 \n",
        "D = 0.92;\n",
        "Xmax=0.4 \n",
        "\n",
        "#coef de la fonction objectif :\n",
        "\n",
        "COFF = pd.DataFrame(index=comps)\n",
        "COFF['alfa'] = [-4.18631879, 1.51409761e+01, 3.51707753e+01]\n",
        "COFF['beta'] = [3.52825280e+01, 2.02366685e+01, -1.13260031e+02]\n",
        "\n",
        "qa = -1.10409869e+04 \n",
        "cte = 35309.142133385314 \n",
        "\n",
        "#''''''''''''''''''''''''''''''''''''''''''''''''''''''''''''''''\n",
        "pH2O_S = 0.1 \n",
        "pH2O_dos = 17 \n",
        "debit_enter = 7200 \n",
        "\n"
      ]
    }
  ],
  "metadata": {
    "colab": {
      "collapsed_sections": [],
      "name": "pyomo.ipynb",
      "provenance": []
    },
    "kernelspec": {
      "display_name": "Python 3",
      "name": "python3"
    },
    "language_info": {
      "name": "python"
    }
  },
  "nbformat": 4,
  "nbformat_minor": 0
}
